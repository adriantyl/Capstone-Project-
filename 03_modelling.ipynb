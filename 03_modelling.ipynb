{
 "cells": [
  {
   "cell_type": "code",
   "execution_count": 165,
   "metadata": {},
   "outputs": [],
   "source": [
    "import numpy as np\n",
    "import pandas as pd\n",
    "import matplotlib.pyplot as plt\n",
    "import seaborn as sns\n",
    "import tqdm as tqdm\n",
    "from sklearn.linear_model import LinearRegression\n",
    "from sklearn.linear_model import LogisticRegression\n",
    "import time \n",
    "import math\n",
    "from sklearn.model_selection import train_test_split\n",
    "from sklearn import preprocessing\n",
    "from sklearn import metrics\n",
    "from sklearn.metrics import r2_score, mean_squared_error, mean_absolute_error\n",
    "from sklearn.tree import DecisionTreeRegressor\n",
    "from sklearn.ensemble import RandomForestClassifier\n",
    "from sklearn.model_selection import cross_val_score, GridSearchCV\n",
    "from sklearn.preprocessing import StandardScaler\n",
    "from sklearn.decomposition import PCA\n",
    "from sklearn.ensemble import RandomForestRegressor, AdaBoostRegressor\n",
    "from sklearn.feature_selection import RFE\n",
    "from sklearn.pipeline import Pipeline"
   ]
  },
  {
   "cell_type": "code",
   "execution_count": 124,
   "metadata": {},
   "outputs": [],
   "source": [
    "data = pd.read_csv('./datasets/data.csv')"
   ]
  },
  {
   "cell_type": "code",
   "execution_count": 125,
   "metadata": {},
   "outputs": [],
   "source": [
    "df_new = pd.DataFrame(data)\n"
   ]
  },
  {
   "cell_type": "code",
   "execution_count": 128,
   "metadata": {},
   "outputs": [],
   "source": [
    "def prepros(df_new):\n",
    "    df_new = df_new.select_dtypes(np.number)\n",
    "    features= [col for col in df_new.columns if col not in ['popularity']]\n",
    "    X = df_new[features]\n",
    "    y = df_new['popularity']\n",
    "    X_train, X_test, y_train, y_test = train_test_split(X, y, random_state=0, test_size=0.1)\n",
    "    ss = StandardScaler()\n",
    "    X_train = ss.fit_transform(X_train)\n",
    "    X_test = ss.transform(X_test)\n",
    "    \n",
    "    return X_train, X_test, y_train, y_test, features"
   ]
  },
  {
   "cell_type": "code",
   "execution_count": 129,
   "metadata": {},
   "outputs": [],
   "source": [
    "X_train, X_test, y_train, y_test, features = prepros(df_new)"
   ]
  },
  {
   "cell_type": "markdown",
   "metadata": {},
   "source": [
    "## Section 1: Features Selection"
   ]
  },
  {
   "cell_type": "code",
   "execution_count": 130,
   "metadata": {},
   "outputs": [
    {
     "name": "stdout",
     "output_type": "stream",
     "text": [
      "Optimum number of features: 11\n",
      "Score with 11 features: 0.758111\n"
     ]
    }
   ],
   "source": [
    "high_score = 0\n",
    "record=[]\n",
    "nof=0 \n",
    "score_list =[]\n",
    "for i in range(1,14):\n",
    "    model = LinearRegression()\n",
    "    rfe = RFE(model,n_features_to_select = i)\n",
    "    X_train_rfe = rfe.fit_transform(X_train, y_train)\n",
    "    X_test_rfe = rfe.transform(X_test)\n",
    "    record.append(list(zip(features,rfe.support_,rfe.ranking_)))\n",
    "    model.fit(X_train_rfe, y_train)\n",
    "    score = model.score(X_test_rfe, y_test)\n",
    "    score_list.append(score)\n",
    "    if(score>high_score):\n",
    "        high_score = score\n",
    "        nof = i\n",
    "        \n",
    "print(\"Optimum number of features: %d\" %nof)\n",
    "print(\"Score with %d features: %f\" % (nof, high_score))"
   ]
  },
  {
   "cell_type": "code",
   "execution_count": 133,
   "metadata": {},
   "outputs": [
    {
     "data": {
      "text/html": [
       "<div>\n",
       "<style scoped>\n",
       "    .dataframe tbody tr th:only-of-type {\n",
       "        vertical-align: middle;\n",
       "    }\n",
       "\n",
       "    .dataframe tbody tr th {\n",
       "        vertical-align: top;\n",
       "    }\n",
       "\n",
       "    .dataframe thead th {\n",
       "        text-align: right;\n",
       "    }\n",
       "</style>\n",
       "<table border=\"1\" class=\"dataframe\">\n",
       "  <thead>\n",
       "    <tr style=\"text-align: right;\">\n",
       "      <th></th>\n",
       "      <th>1</th>\n",
       "      <th>2</th>\n",
       "      <th>3</th>\n",
       "      <th>4</th>\n",
       "      <th>5</th>\n",
       "      <th>6</th>\n",
       "      <th>7</th>\n",
       "      <th>8</th>\n",
       "      <th>9</th>\n",
       "      <th>10</th>\n",
       "      <th>11</th>\n",
       "      <th>12</th>\n",
       "      <th>13</th>\n",
       "    </tr>\n",
       "  </thead>\n",
       "  <tbody>\n",
       "    <tr>\n",
       "      <th>valence</th>\n",
       "      <td>9</td>\n",
       "      <td>8</td>\n",
       "      <td>7</td>\n",
       "      <td>6</td>\n",
       "      <td>5</td>\n",
       "      <td>4</td>\n",
       "      <td>3</td>\n",
       "      <td>2</td>\n",
       "      <td>1</td>\n",
       "      <td>1</td>\n",
       "      <td>1</td>\n",
       "      <td>1</td>\n",
       "      <td>1</td>\n",
       "    </tr>\n",
       "    <tr>\n",
       "      <th>year</th>\n",
       "      <td>1</td>\n",
       "      <td>1</td>\n",
       "      <td>1</td>\n",
       "      <td>1</td>\n",
       "      <td>1</td>\n",
       "      <td>1</td>\n",
       "      <td>1</td>\n",
       "      <td>1</td>\n",
       "      <td>1</td>\n",
       "      <td>1</td>\n",
       "      <td>1</td>\n",
       "      <td>1</td>\n",
       "      <td>1</td>\n",
       "    </tr>\n",
       "    <tr>\n",
       "      <th>acousticness</th>\n",
       "      <td>3</td>\n",
       "      <td>2</td>\n",
       "      <td>1</td>\n",
       "      <td>1</td>\n",
       "      <td>1</td>\n",
       "      <td>1</td>\n",
       "      <td>1</td>\n",
       "      <td>1</td>\n",
       "      <td>1</td>\n",
       "      <td>1</td>\n",
       "      <td>1</td>\n",
       "      <td>1</td>\n",
       "      <td>1</td>\n",
       "    </tr>\n",
       "    <tr>\n",
       "      <th>danceability</th>\n",
       "      <td>5</td>\n",
       "      <td>4</td>\n",
       "      <td>3</td>\n",
       "      <td>2</td>\n",
       "      <td>1</td>\n",
       "      <td>1</td>\n",
       "      <td>1</td>\n",
       "      <td>1</td>\n",
       "      <td>1</td>\n",
       "      <td>1</td>\n",
       "      <td>1</td>\n",
       "      <td>1</td>\n",
       "      <td>1</td>\n",
       "    </tr>\n",
       "    <tr>\n",
       "      <th>duration_ms</th>\n",
       "      <td>13</td>\n",
       "      <td>12</td>\n",
       "      <td>11</td>\n",
       "      <td>10</td>\n",
       "      <td>9</td>\n",
       "      <td>8</td>\n",
       "      <td>7</td>\n",
       "      <td>6</td>\n",
       "      <td>5</td>\n",
       "      <td>4</td>\n",
       "      <td>3</td>\n",
       "      <td>2</td>\n",
       "      <td>1</td>\n",
       "    </tr>\n",
       "    <tr>\n",
       "      <th>energy</th>\n",
       "      <td>7</td>\n",
       "      <td>6</td>\n",
       "      <td>5</td>\n",
       "      <td>4</td>\n",
       "      <td>3</td>\n",
       "      <td>2</td>\n",
       "      <td>1</td>\n",
       "      <td>1</td>\n",
       "      <td>1</td>\n",
       "      <td>1</td>\n",
       "      <td>1</td>\n",
       "      <td>1</td>\n",
       "      <td>1</td>\n",
       "    </tr>\n",
       "    <tr>\n",
       "      <th>explicit</th>\n",
       "      <td>8</td>\n",
       "      <td>7</td>\n",
       "      <td>6</td>\n",
       "      <td>5</td>\n",
       "      <td>4</td>\n",
       "      <td>3</td>\n",
       "      <td>2</td>\n",
       "      <td>1</td>\n",
       "      <td>1</td>\n",
       "      <td>1</td>\n",
       "      <td>1</td>\n",
       "      <td>1</td>\n",
       "      <td>1</td>\n",
       "    </tr>\n",
       "    <tr>\n",
       "      <th>instrumentalness</th>\n",
       "      <td>2</td>\n",
       "      <td>1</td>\n",
       "      <td>1</td>\n",
       "      <td>1</td>\n",
       "      <td>1</td>\n",
       "      <td>1</td>\n",
       "      <td>1</td>\n",
       "      <td>1</td>\n",
       "      <td>1</td>\n",
       "      <td>1</td>\n",
       "      <td>1</td>\n",
       "      <td>1</td>\n",
       "      <td>1</td>\n",
       "    </tr>\n",
       "    <tr>\n",
       "      <th>key</th>\n",
       "      <td>14</td>\n",
       "      <td>13</td>\n",
       "      <td>12</td>\n",
       "      <td>11</td>\n",
       "      <td>10</td>\n",
       "      <td>9</td>\n",
       "      <td>8</td>\n",
       "      <td>7</td>\n",
       "      <td>6</td>\n",
       "      <td>5</td>\n",
       "      <td>4</td>\n",
       "      <td>3</td>\n",
       "      <td>2</td>\n",
       "    </tr>\n",
       "    <tr>\n",
       "      <th>liveness</th>\n",
       "      <td>6</td>\n",
       "      <td>5</td>\n",
       "      <td>4</td>\n",
       "      <td>3</td>\n",
       "      <td>2</td>\n",
       "      <td>1</td>\n",
       "      <td>1</td>\n",
       "      <td>1</td>\n",
       "      <td>1</td>\n",
       "      <td>1</td>\n",
       "      <td>1</td>\n",
       "      <td>1</td>\n",
       "      <td>1</td>\n",
       "    </tr>\n",
       "    <tr>\n",
       "      <th>loudness</th>\n",
       "      <td>11</td>\n",
       "      <td>10</td>\n",
       "      <td>9</td>\n",
       "      <td>8</td>\n",
       "      <td>7</td>\n",
       "      <td>6</td>\n",
       "      <td>5</td>\n",
       "      <td>4</td>\n",
       "      <td>3</td>\n",
       "      <td>2</td>\n",
       "      <td>1</td>\n",
       "      <td>1</td>\n",
       "      <td>1</td>\n",
       "    </tr>\n",
       "    <tr>\n",
       "      <th>mode</th>\n",
       "      <td>10</td>\n",
       "      <td>9</td>\n",
       "      <td>8</td>\n",
       "      <td>7</td>\n",
       "      <td>6</td>\n",
       "      <td>5</td>\n",
       "      <td>4</td>\n",
       "      <td>3</td>\n",
       "      <td>2</td>\n",
       "      <td>1</td>\n",
       "      <td>1</td>\n",
       "      <td>1</td>\n",
       "      <td>1</td>\n",
       "    </tr>\n",
       "    <tr>\n",
       "      <th>speechiness</th>\n",
       "      <td>4</td>\n",
       "      <td>3</td>\n",
       "      <td>2</td>\n",
       "      <td>1</td>\n",
       "      <td>1</td>\n",
       "      <td>1</td>\n",
       "      <td>1</td>\n",
       "      <td>1</td>\n",
       "      <td>1</td>\n",
       "      <td>1</td>\n",
       "      <td>1</td>\n",
       "      <td>1</td>\n",
       "      <td>1</td>\n",
       "    </tr>\n",
       "    <tr>\n",
       "      <th>tempo</th>\n",
       "      <td>12</td>\n",
       "      <td>11</td>\n",
       "      <td>10</td>\n",
       "      <td>9</td>\n",
       "      <td>8</td>\n",
       "      <td>7</td>\n",
       "      <td>6</td>\n",
       "      <td>5</td>\n",
       "      <td>4</td>\n",
       "      <td>3</td>\n",
       "      <td>2</td>\n",
       "      <td>1</td>\n",
       "      <td>1</td>\n",
       "    </tr>\n",
       "  </tbody>\n",
       "</table>\n",
       "</div>"
      ],
      "text/plain": [
       "                  1   2   3   4   5   6   7   8   9   10  11  12  13\n",
       "valence            9   8   7   6   5   4   3   2   1   1   1   1   1\n",
       "year               1   1   1   1   1   1   1   1   1   1   1   1   1\n",
       "acousticness       3   2   1   1   1   1   1   1   1   1   1   1   1\n",
       "danceability       5   4   3   2   1   1   1   1   1   1   1   1   1\n",
       "duration_ms       13  12  11  10   9   8   7   6   5   4   3   2   1\n",
       "energy             7   6   5   4   3   2   1   1   1   1   1   1   1\n",
       "explicit           8   7   6   5   4   3   2   1   1   1   1   1   1\n",
       "instrumentalness   2   1   1   1   1   1   1   1   1   1   1   1   1\n",
       "key               14  13  12  11  10   9   8   7   6   5   4   3   2\n",
       "liveness           6   5   4   3   2   1   1   1   1   1   1   1   1\n",
       "loudness          11  10   9   8   7   6   5   4   3   2   1   1   1\n",
       "mode              10   9   8   7   6   5   4   3   2   1   1   1   1\n",
       "speechiness        4   3   2   1   1   1   1   1   1   1   1   1   1\n",
       "tempo             12  11  10   9   8   7   6   5   4   3   2   1   1"
      ]
     },
     "execution_count": 133,
     "metadata": {},
     "output_type": "execute_result"
    }
   ],
   "source": [
    "df_record = pd.DataFrame([[tup[2] for tup in rec] for rec in record], columns = features, index=list(range(1,14))).T\n",
    "df_record"
   ]
  },
  {
   "cell_type": "code",
   "execution_count": 143,
   "metadata": {},
   "outputs": [],
   "source": [
    "df_select = df_new.drop(columns =['key','duration_ms'])"
   ]
  },
  {
   "cell_type": "code",
   "execution_count": 144,
   "metadata": {},
   "outputs": [],
   "source": [
    "X_train, X_test, y_train, y_test, features = prepros(df_select)"
   ]
  },
  {
   "cell_type": "code",
   "execution_count": 119,
   "metadata": {},
   "outputs": [
    {
     "data": {
      "text/plain": [
       "0.45675612328606585"
      ]
     },
     "execution_count": 119,
     "metadata": {},
     "output_type": "execute_result"
    }
   ],
   "source": [
    "log = LogisticRegression(max_iter=1000)\n",
    "log.fit(X_train, y_train)\n",
    "log.score(X_test, y_test)"
   ]
  },
  {
   "cell_type": "code",
   "execution_count": 146,
   "metadata": {},
   "outputs": [
    {
     "data": {
      "text/plain": [
       "0.7581001273029934"
      ]
     },
     "execution_count": 146,
     "metadata": {},
     "output_type": "execute_result"
    }
   ],
   "source": [
    "lr = LinearRegression()\n",
    "lr.fit(X_train, y_train)\n",
    "lr.score(X_test, y_test)"
   ]
  },
  {
   "cell_type": "code",
   "execution_count": 117,
   "metadata": {},
   "outputs": [
    {
     "data": {
      "text/plain": [
       "-0.5027085917772312"
      ]
     },
     "execution_count": 117,
     "metadata": {},
     "output_type": "execute_result"
    }
   ],
   "source": [
    "dt = DecisionTreeRegressor()\n",
    "dt.fit(X_train, y_train)\n",
    "dt.score(X_test, y_test)"
   ]
  },
  {
   "cell_type": "code",
   "execution_count": 102,
   "metadata": {},
   "outputs": [
    {
     "data": {
      "text/plain": [
       "1.0"
      ]
     },
     "execution_count": 102,
     "metadata": {},
     "output_type": "execute_result"
    }
   ],
   "source": [
    "rf_model = RandomForestClassifier(max_depth = 20, max_features = 5, min_samples_split = 8, n_estimators = 1200)\n",
    "rf_model.fit(X_train, y_train)\n",
    "rf_model.score(X_test, y_test)\n",
    "# y_rf_pred = rf_model.predict(X_test)\n",
    "# display(metrics.accuracy_score(y_test, y_rf_pred))"
   ]
  },
  {
   "cell_type": "code",
   "execution_count": 148,
   "metadata": {},
   "outputs": [
    {
     "data": {
      "text/plain": [
       "0.8075107461309942"
      ]
     },
     "execution_count": 148,
     "metadata": {},
     "output_type": "execute_result"
    }
   ],
   "source": [
    "rfr = RandomForestRegressor()\n",
    "rfr.fit(X_train, y_train)\n",
    "rfr.score(X_test, y_test)"
   ]
  },
  {
   "cell_type": "code",
   "execution_count": 166,
   "metadata": {},
   "outputs": [
    {
     "data": {
      "text/plain": [
       "0.6908683029795466"
      ]
     },
     "execution_count": 166,
     "metadata": {},
     "output_type": "execute_result"
    }
   ],
   "source": [
    "ada_model = AdaBoostRegressor()\n",
    "ada_model.fit(X_train, y_train)\n",
    "ada_model.score(X_test, y_test)"
   ]
  },
  {
   "cell_type": "markdown",
   "metadata": {},
   "source": [
    "## Selection 2: Applying Regression Models"
   ]
  },
  {
   "cell_type": "code",
   "execution_count": 167,
   "metadata": {},
   "outputs": [],
   "source": [
    "steps =  [ #list of pipeline steps for each model  \n",
    "    [('lr', LinearRegression())],\n",
    "    [('rfr',RandomForestRegressor(max_depth=20, n_estimators= 300, random_state=0))],\n",
    "    [('dtr',DecisionTreeRegressor(random_state=0))],\n",
    "    [('abr',AdaBoostRegressor(random_state=1))]\n",
    "    ]\n",
    "\n",
    "\n",
    "\n",
    "pipe_titles = ['lr', 'rfr', 'dtr', 'abr']\n",
    "\n",
    "grid_results = pd.DataFrame(columns=['step','train_accuracy', 'test_accuracy', 'r2_score', \n",
    "                                     'mean_squared_error','mean_absolute_error'])"
   ]
  },
  {
   "cell_type": "code",
   "execution_count": 168,
   "metadata": {},
   "outputs": [
    {
     "name": "stdout",
     "output_type": "stream",
     "text": [
      "Step:  lr\n",
      "training score: 0.7530549771920028 \n",
      "\n",
      "test score: 0.7581001273029934 \n",
      "\n",
      "R2 score: 0.7581001273029934 \n",
      "\n",
      "mean_squared_error: 115.63773446140532 \n",
      "\n",
      "mean_absolute_error: 7.982060489455835 \n",
      "\n",
      "Step:  rfr\n",
      "training score: 0.9299693660798957 \n",
      "\n",
      "test score: 0.8118101275743208 \n",
      "\n",
      "R2 score: 0.8118101275743208 \n",
      "\n",
      "mean_squared_error: 89.96222384599758 \n",
      "\n",
      "mean_absolute_error: 6.6979087172985405 \n",
      "\n",
      "Step:  dtr\n",
      "training score: 0.9971449151588991 \n",
      "\n",
      "test score: 0.6071101018161782 \n",
      "\n",
      "R2 score: 0.6071101018161782 \n",
      "\n",
      "mean_squared_error: 187.81695588429127 \n",
      "\n",
      "mean_absolute_error: 9.245266137628143 \n",
      "\n",
      "Step:  abr\n",
      "training score: 0.6836098777066395 \n",
      "\n",
      "test score: 0.6835410056881939 \n",
      "\n",
      "R2 score: 0.6835410056881939 \n",
      "\n",
      "mean_squared_error: 151.27995208988327 \n",
      "\n",
      "mean_absolute_error: 10.009931575640014 \n",
      "\n"
     ]
    }
   ],
   "source": [
    "for i in (range(len(steps))):          \n",
    "    pipe = Pipeline(steps=steps[i])         # configure pipeline for each model\n",
    "    grid = pipe\n",
    "    model_results = {}\n",
    "    \n",
    "    grid.fit(X_train, y_train)\n",
    "    y_pred = grid.predict(X_test)\n",
    "    \n",
    "    print('Step: ',pipe_titles[i])\n",
    "    model_results['step'] = pipe_titles[i]\n",
    "\n",
    "\n",
    "    #Score the model on training set\n",
    "    print(f\"training score: {grid.score(X_train, y_train)}\", '\\n')\n",
    "    model_results['train_accuracy'] = grid.score(X_train, y_train)\n",
    "    \n",
    "    #Score the model on test set\n",
    "    print(f\"test score: {grid.score(X_test, y_test)}\", '\\n')\n",
    "    model_results['test_accuracy'] = grid.score(X_test, y_test)\n",
    "    \n",
    "    #R2 score the model on test set\n",
    "    print(f\"R2 score: {r2_score(y_test, y_pred)}\", '\\n')\n",
    "    model_results['r2_score'] = r2_score(y_test, y_pred)\n",
    "    \n",
    "    #mean_squared_error the model on test set\n",
    "    print(f\"mean_squared_error: {mean_squared_error(y_test, y_pred)}\", '\\n')\n",
    "    model_results['mean_squared_error'] = mean_squared_error(y_test, y_pred)\n",
    "    \n",
    "    #mean_absolute_error the model on test set\n",
    "    print(f\"mean_absolute_error: {mean_absolute_error(y_test, y_pred)}\", '\\n')\n",
    "    model_results['mean_absolute_error'] = mean_absolute_error(y_test, y_pred)\n",
    "\n",
    "\n",
    "#     # Display the confusion matrix results showing true/false positive/negative\n",
    "#     tn, fp, fn, tp = confusion_matrix(y_test, grid.predict(X_test)).ravel() \n",
    "\n",
    "#     print(\"True Negatives: %s\" % tn)\n",
    "#     model_results['tn'] = tn\n",
    "\n",
    "#     print(\"False Positives: %s\" % fp)  \n",
    "#     model_results['fp'] = fp\n",
    "\n",
    "#     print(\"False Negatives: %s\" % fn)\n",
    "#     model_results['fn'] = fn\n",
    "\n",
    "#     print(\"True Positives: %s\" % tp, '\\n')\n",
    "#     model_results['tp'] = tp\n",
    "\n",
    "    grid_results = grid_results.append(model_results, ignore_index=True)"
   ]
  },
  {
   "cell_type": "code",
   "execution_count": 164,
   "metadata": {},
   "outputs": [
    {
     "data": {
      "text/html": [
       "<div>\n",
       "<style scoped>\n",
       "    .dataframe tbody tr th:only-of-type {\n",
       "        vertical-align: middle;\n",
       "    }\n",
       "\n",
       "    .dataframe tbody tr th {\n",
       "        vertical-align: top;\n",
       "    }\n",
       "\n",
       "    .dataframe thead th {\n",
       "        text-align: right;\n",
       "    }\n",
       "</style>\n",
       "<table border=\"1\" class=\"dataframe\">\n",
       "  <thead>\n",
       "    <tr style=\"text-align: right;\">\n",
       "      <th></th>\n",
       "      <th>step</th>\n",
       "      <th>train_accuracy</th>\n",
       "      <th>test_accuracy</th>\n",
       "      <th>r2_score</th>\n",
       "      <th>mean_squared_error</th>\n",
       "      <th>mean_absolute_error</th>\n",
       "    </tr>\n",
       "  </thead>\n",
       "  <tbody>\n",
       "    <tr>\n",
       "      <th>0</th>\n",
       "      <td>lr</td>\n",
       "      <td>0.753055</td>\n",
       "      <td>0.758100</td>\n",
       "      <td>0.758100</td>\n",
       "      <td>115.637734</td>\n",
       "      <td>7.982060</td>\n",
       "    </tr>\n",
       "    <tr>\n",
       "      <th>1</th>\n",
       "      <td>rfr</td>\n",
       "      <td>0.971538</td>\n",
       "      <td>0.809383</td>\n",
       "      <td>0.809383</td>\n",
       "      <td>91.122428</td>\n",
       "      <td>6.764254</td>\n",
       "    </tr>\n",
       "    <tr>\n",
       "      <th>2</th>\n",
       "      <td>dtr</td>\n",
       "      <td>0.997145</td>\n",
       "      <td>0.607110</td>\n",
       "      <td>0.607110</td>\n",
       "      <td>187.816956</td>\n",
       "      <td>9.245266</td>\n",
       "    </tr>\n",
       "    <tr>\n",
       "      <th>3</th>\n",
       "      <td>abc</td>\n",
       "      <td>0.035342</td>\n",
       "      <td>0.036447</td>\n",
       "      <td>0.658968</td>\n",
       "      <td>163.026954</td>\n",
       "      <td>9.386734</td>\n",
       "    </tr>\n",
       "  </tbody>\n",
       "</table>\n",
       "</div>"
      ],
      "text/plain": [
       "  step  train_accuracy  test_accuracy  r2_score  mean_squared_error  \\\n",
       "0   lr        0.753055       0.758100  0.758100          115.637734   \n",
       "1  rfr        0.971538       0.809383  0.809383           91.122428   \n",
       "2  dtr        0.997145       0.607110  0.607110          187.816956   \n",
       "3  abc        0.035342       0.036447  0.658968          163.026954   \n",
       "\n",
       "   mean_absolute_error  \n",
       "0             7.982060  \n",
       "1             6.764254  \n",
       "2             9.245266  \n",
       "3             9.386734  "
      ]
     },
     "execution_count": 164,
     "metadata": {},
     "output_type": "execute_result"
    }
   ],
   "source": [
    "grid_results"
   ]
  },
  {
   "cell_type": "code",
   "execution_count": 160,
   "metadata": {},
   "outputs": [],
   "source": []
  },
  {
   "cell_type": "code",
   "execution_count": null,
   "metadata": {},
   "outputs": [],
   "source": []
  }
 ],
 "metadata": {
  "kernelspec": {
   "display_name": "Python 3",
   "language": "python",
   "name": "python3"
  },
  "language_info": {
   "codemirror_mode": {
    "name": "ipython",
    "version": 3
   },
   "file_extension": ".py",
   "mimetype": "text/x-python",
   "name": "python",
   "nbconvert_exporter": "python",
   "pygments_lexer": "ipython3",
   "version": "3.8.5"
  }
 },
 "nbformat": 4,
 "nbformat_minor": 4
}
